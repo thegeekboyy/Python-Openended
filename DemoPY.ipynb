{
 "cells": [
  {
   "cell_type": "code",
   "execution_count": 1,
   "id": "024d2048",
   "metadata": {},
   "outputs": [],
   "source": [
    "import mymodule as mm"
   ]
  },
  {
   "cell_type": "markdown",
   "id": "e44c2d43",
   "metadata": {},
   "source": [
    "## Agg CGPA "
   ]
  },
  {
   "cell_type": "code",
   "execution_count": 2,
   "id": "9cc3b88d",
   "metadata": {},
   "outputs": [
    {
     "name": "stdout",
     "output_type": "stream",
     "text": [
      "-------------------------------------------------------------------------\n",
      "Enter the SGPA in  1  Semister \n",
      "\n",
      "7.8\n",
      "Enter the Credits in  1 Semister \n",
      "\n",
      "21\n",
      "---------------------------------------------------------------------\n",
      "Enter the SGPA in  2  Semister \n",
      "\n",
      "8.0\n",
      "Enter the Credits in  2 Semister \n",
      "\n",
      "19\n",
      "---------------------------------------------------------------------\n",
      "Enter the SGPA in  3  Semister \n",
      "\n",
      "9\n",
      "Enter the Credits in  3 Semister \n",
      "\n",
      "24\n",
      "---------------------------------------------------------------------\n",
      "Enter the SGPA in  4  Semister \n",
      "\n",
      "9.5\n",
      "Enter the Credits in  4 Semister \n",
      "\n",
      "25\n",
      "---------------------------------------------------------------------\n",
      "Your Aggregate CGPA is  : 8.6438202247191\n",
      "Your Aggregate Percentage is : 78.938202247191 %\n"
     ]
    },
    {
     "data": {
      "text/plain": [
       "8.6438202247191"
      ]
     },
     "execution_count": 2,
     "metadata": {},
     "output_type": "execute_result"
    }
   ],
   "source": [
    "mm.cgpa_Calc(4)"
   ]
  },
  {
   "cell_type": "markdown",
   "id": "d31b1301",
   "metadata": {},
   "source": [
    "##  Temperature conversions"
   ]
  },
  {
   "cell_type": "code",
   "execution_count": 3,
   "id": "efadab74",
   "metadata": {},
   "outputs": [
    {
     "name": "stdout",
     "output_type": "stream",
     "text": [
      "\n",
      "                    ----------------------------------------\n",
      "                    |   Press 1 if input is in kelvin      |\n",
      "                    |   press 2 if input is in Faranheit   |\n",
      "                    |   Press 3 if input is in  celcius    |\n",
      "                    ----------------------------------------\n",
      "    \n",
      "3\n",
      "Enter the temperature in celcius scale \n",
      "35\n",
      "{'Kelvin': 308.15, 'Faranheit': 95.0}\n"
     ]
    },
    {
     "data": {
      "text/plain": [
       "{'Kelvin': 308.15, 'Faranheit': 95.0}"
      ]
     },
     "execution_count": 3,
     "metadata": {},
     "output_type": "execute_result"
    }
   ],
   "source": [
    "mm.temperature()"
   ]
  },
  {
   "cell_type": "markdown",
   "id": "448ff2ea",
   "metadata": {},
   "source": [
    "## GST"
   ]
  },
  {
   "cell_type": "code",
   "execution_count": 4,
   "id": "138a0c78",
   "metadata": {},
   "outputs": [
    {
     "name": "stdout",
     "output_type": "stream",
     "text": [
      "Enter the Rate of intrest: \n",
      "18\n",
      "Enter the base amount: \n",
      "7000\n",
      "The Amount after GST is levied is : 8260.0\n"
     ]
    },
    {
     "data": {
      "text/plain": [
       "8260.0"
      ]
     },
     "execution_count": 4,
     "metadata": {},
     "output_type": "execute_result"
    }
   ],
   "source": [
    "mm.GST()"
   ]
  },
  {
   "cell_type": "markdown",
   "id": "795bfd29",
   "metadata": {},
   "source": [
    "# # Currency converter\n"
   ]
  },
  {
   "cell_type": "code",
   "execution_count": 5,
   "id": "b2163e2a",
   "metadata": {},
   "outputs": [
    {
     "name": "stdout",
     "output_type": "stream",
     "text": [
      "\n",
      "    -------------------------------------------------------------------------\n",
      "    |                    Press 1 if the input is in INR                     |\n",
      "    |                    Press 2 if the input is in USD                     |\n",
      "    |                    Press 3 if the input is in Yuans                   |\n",
      "    |                    Press 4 if the input is in Euros                   |\n",
      "    |                    Press 5 if the input is in Yens                    |\n",
      "    --------------------------------------------------------------------------\n",
      "    \n",
      "2\n",
      "Enter your input in USD \n",
      "80\n",
      "{'INR': 6160, 'Euro': 61.6, 'Yuan': 554.4, 'Yen': 8993.6}\n"
     ]
    },
    {
     "data": {
      "text/plain": [
       "{'INR': 6160, 'Euro': 61.6, 'Yuan': 554.4, 'Yen': 8993.6}"
      ]
     },
     "execution_count": 5,
     "metadata": {},
     "output_type": "execute_result"
    }
   ],
   "source": [
    "mm.currency()"
   ]
  },
  {
   "cell_type": "markdown",
   "id": "b866f862",
   "metadata": {},
   "source": [
    "# # Angle conversions"
   ]
  },
  {
   "cell_type": "code",
   "execution_count": 6,
   "id": "27cb1cef",
   "metadata": {},
   "outputs": [
    {
     "data": {
      "text/plain": [
       "0.8726666666666667"
      ]
     },
     "execution_count": 6,
     "metadata": {},
     "output_type": "execute_result"
    }
   ],
   "source": [
    "mm.degTorad(50)"
   ]
  },
  {
   "cell_type": "code",
   "execution_count": 7,
   "id": "2d4b776b",
   "metadata": {},
   "outputs": [
    {
     "data": {
      "text/plain": [
       "49.99618029029794"
      ]
     },
     "execution_count": 7,
     "metadata": {},
     "output_type": "execute_result"
    }
   ],
   "source": [
    "mm.radTodeg(0.8726)"
   ]
  }
 ],
 "metadata": {
  "kernelspec": {
   "display_name": "Python 3 (ipykernel)",
   "language": "python",
   "name": "python3"
  },
  "language_info": {
   "codemirror_mode": {
    "name": "ipython",
    "version": 3
   },
   "file_extension": ".py",
   "mimetype": "text/x-python",
   "name": "python",
   "nbconvert_exporter": "python",
   "pygments_lexer": "ipython3",
   "version": "3.8.3"
  }
 },
 "nbformat": 4,
 "nbformat_minor": 5
}
